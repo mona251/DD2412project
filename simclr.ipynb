{
 "cells": [
  {
   "cell_type": "code",
   "execution_count": 24,
   "id": "f2383a7e",
   "metadata": {},
   "outputs": [],
   "source": [
    "from simclr import SimCLR\n",
    "import torch\n",
    "import numpy as np\n",
    "import torchvision.transforms as transforms\n",
    "from torchvision.datasets import CIFAR10\n",
    "from torch.utils.data import random_split\n",
    "from torch.utils.data.dataloader import DataLoader\n",
    "from flash.core.optimizers import LARS\n",
    "\n",
    "\n",
    "from torch.utils.tensorboard import SummaryWriter\n",
    "from simclr.modules.transformations import TransformsSimCLR\n",
    "from simclr.modules import NT_Xent\n"
   ]
  },
  {
   "cell_type": "code",
   "execution_count": 3,
   "id": "01080481",
   "metadata": {},
   "outputs": [
    {
     "name": "stdout",
     "output_type": "stream",
     "text": [
      "Files already downloaded and verified\n"
     ]
    }
   ],
   "source": [
    "image_size = 224\n",
    "root = 'datasets/'\n",
    "\n",
    "dataset = CIFAR10(root=root, download=True, transform = TransformsSimCLR(size = image_size))\n",
    "torch.manual_seed(43)\n",
    "batch_size = 128\n",
    "train_loader = DataLoader(dataset, \n",
    "                          batch_size, \n",
    "                          shuffle=False,\n",
    "                          drop_last = True,\n",
    "                          num_workers=2,\n",
    "                          sampler = None)"
   ]
  },
  {
   "cell_type": "code",
   "execution_count": 4,
   "id": "7ad800d1",
   "metadata": {},
   "outputs": [
    {
     "name": "stderr",
     "output_type": "stream",
     "text": [
      "Using cache found in C:\\Users\\Shulu/.cache\\torch\\hub\\pytorch_vision_v0.10.0\n"
     ]
    }
   ],
   "source": [
    "encoder = torch.hub.load('pytorch/vision:v0.10.0', 'resnet18', pretrained=False) \n",
    "projection_dim = 64\n",
    "n_features = encoder.fc.in_features  # get dimensions of last fully-connected layer\n",
    "model = SimCLR(encoder, projection_dim, n_features)"
   ]
  },
  {
   "cell_type": "code",
   "execution_count": 17,
   "id": "360efcf7",
   "metadata": {},
   "outputs": [],
   "source": [
    "optimizer = LARS(model.parameters(), lr = 0.075 * np.sqrt(batch_size), weight_decay = 1e-6)\n",
    "criterion = NT_Xent(batch_size, temperature = 0.2, world_size=1)"
   ]
  },
  {
   "cell_type": "code",
   "execution_count": 6,
   "id": "32012fda",
   "metadata": {},
   "outputs": [],
   "source": [
    "train_dataset = CIFAR10(root = 'datasets/', transform = transforms.ToTensor())\n",
    "\n",
    "loader = DataLoader(train_dataset, \n",
    "                          batch_size, \n",
    "                          shuffle=False,\n",
    "                          drop_last = True,\n",
    "                          num_workers=2,\n",
    "                          sampler = None)"
   ]
  },
  {
   "cell_type": "code",
   "execution_count": 25,
   "id": "a4d43d12",
   "metadata": {},
   "outputs": [],
   "source": [
    "writer = SummaryWriter()"
   ]
  },
  {
   "cell_type": "code",
   "execution_count": null,
   "id": "68b7461f",
   "metadata": {},
   "outputs": [
    {
     "name": "stderr",
     "output_type": "stream",
     "text": [
      "\r",
      "  0%|                                                                                           | 0/50 [00:00<?, ?it/s]"
     ]
    }
   ],
   "source": [
    "def train(global_step, train_loader, model, criterion, optimizer, writer):\n",
    "    loss_epoch = 0\n",
    "    for steps, (i, _) in enumerate(train_loader):\n",
    "    \n",
    "        optimizer.zero_grad()\n",
    "        i = i.cuda(non_blocking = True)\n",
    "        j = i.cuda(non_blocking = True)\n",
    "        h_i, h_j, z_i, z_j = model(i, j)\n",
    "        loss = criterion(z_i, z_j)\n",
    "        loss.backward()\n",
    "        optimizer.step()\n",
    "\n",
    "        if steps % 50 == 0:\n",
    "            print(f\"Step [{steps}/{len(train_loader)}]\\t Loss: {loss.item()}\")\n",
    "\n",
    "        writer.add_scalar(\"Loss/train_epoch\", loss.item(), global_step)\n",
    "        loss_epoch += loss.item()\n",
    "        global_step += 1\n",
    "    return loss_epoch\n",
    "\n",
    "global_step = 0\n",
    "current_epoch = 0\n",
    "epochs = 50\n",
    "\n",
    "from tqdm import tqdm as tqdm\n",
    "for epoch in tqdm(range(epochs)):\n",
    "    loss_epoch = train(global_step, train_loader, model, criterion, optimizer, writer)\n",
    "\n",
    "    writer.add_scalar(\"Loss/train\", loss_epoch / len(loader), epochs)\n",
    "    print(\n",
    "        f\"Epoch [{current_epoch}/{epoch}]\\t Loss: {loss_epoch / len(train_loader)}\\t\"\n",
    "    )\n",
    "    current_epoch += 1"
   ]
  },
  {
   "cell_type": "code",
   "execution_count": null,
   "id": "179547a7",
   "metadata": {},
   "outputs": [],
   "source": [
    "loss_epoch = 0\n",
    "\n",
    "#the transformed dataset, my PC gets stuck inside the for-statement\n",
    "#Currently working with the for-loop above for debugging and testing purposes //Mohamad\n",
    "\n",
    "for step, ((x_i, x_j), _) in enumerate(train_loader): #program gets stuck exactly here\n",
    "    optimizer.zero_grad()\n",
    "    x_i = x_i.cuda(non_blocking=True)\n",
    "    x_j = x_j.cuda(non_blocking=True)\n",
    "\n",
    "    # positive pair, with encoding\n",
    "    h_i, h_j, z_i, z_j = model(x_i, x_j)\n",
    "\n",
    "    loss = criterion(z_i, z_j)\n",
    "    loss.backward()\n",
    "\n",
    "    optimizer.step()\n",
    "\n"
   ]
  },
  {
   "cell_type": "code",
   "execution_count": null,
   "id": "3d27b6f9",
   "metadata": {},
   "outputs": [],
   "source": []
  }
 ],
 "metadata": {
  "kernelspec": {
   "display_name": "Python 3",
   "language": "python",
   "name": "python3"
  },
  "language_info": {
   "codemirror_mode": {
    "name": "ipython",
    "version": 3
   },
   "file_extension": ".py",
   "mimetype": "text/x-python",
   "name": "python",
   "nbconvert_exporter": "python",
   "pygments_lexer": "ipython3",
   "version": "3.8.8"
  }
 },
 "nbformat": 4,
 "nbformat_minor": 5
}
