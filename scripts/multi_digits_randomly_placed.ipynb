{
 "cells": [
  {
   "cell_type": "markdown",
   "source": [
    "# Visualization of images with multi digits of size 28x28 randomly placed on a canvas of size 112x112"
   ],
   "metadata": {
    "collapsed": false,
    "pycharm": {
     "name": "#%% md\n"
    }
   }
  },
  {
   "cell_type": "code",
   "execution_count": 268,
   "outputs": [],
   "source": [
    "import os\n",
    "os.environ[\"KMP_DUPLICATE_LIB_OK\"]=\"TRUE\""
   ],
   "metadata": {
    "collapsed": false,
    "pycharm": {
     "name": "#%%\n"
    }
   }
  },
  {
   "cell_type": "code",
   "execution_count": 269,
   "metadata": {
    "pycharm": {
     "name": "#%%\n"
    }
   },
   "outputs": [],
   "source": [
    "%matplotlib inline\n",
    "import matplotlib.pyplot as plt\n",
    "import numpy as np"
   ]
  },
  {
   "cell_type": "code",
   "execution_count": 270,
   "outputs": [],
   "source": [
    "from src.load_data import load_mnist, sample_uniformly_imgs #, load_imagenet\n",
    "from src.utils import downsample_img, crop_digit, get_bottom_right_corner_to_match_shapes\n",
    "from src.create_data import overlay_small_img_on_large_img_at_random_position"
   ],
   "metadata": {
    "collapsed": false,
    "pycharm": {
     "name": "#%%\n"
    }
   }
  },
  {
   "cell_type": "code",
   "execution_count": 271,
   "outputs": [],
   "source": [
    "import importlib\n",
    "import src\n",
    "importlib.reload(src.create_data)\n",
    "from src.create_data import overlay_small_img_on_large_img_at_random_position"
   ],
   "metadata": {
    "collapsed": false,
    "pycharm": {
     "name": "#%%\n"
    }
   }
  },
  {
   "cell_type": "code",
   "execution_count": 272,
   "metadata": {
    "pycharm": {
     "name": "#%%\n"
    }
   },
   "outputs": [],
   "source": [
    "#seed = 4\n",
    "n_sampled_digits = 14\n",
    "\n",
    "mnist_dataset_train, mnist_dataset_test = load_mnist()\n",
    "\n",
    "sampled_digit_images = sample_uniformly_imgs(\n",
    "    mnist_dataset_train, n_sampled_digits) #, seed)"
   ]
  },
  {
   "cell_type": "code",
   "execution_count": 273,
   "outputs": [],
   "source": [
    "canvas_height = 112\n",
    "canvas_width = 112\n",
    "canvas = np.zeros((canvas_height, canvas_width))"
   ],
   "metadata": {
    "collapsed": false,
    "pycharm": {
     "name": "#%%\n"
    }
   }
  },
  {
   "cell_type": "markdown",
   "source": [
    "## Cropping out the background"
   ],
   "metadata": {
    "collapsed": false,
    "pycharm": {
     "name": "#%% md\n"
    }
   }
  },
  {
   "cell_type": "code",
   "execution_count": 274,
   "outputs": [],
   "source": [
    "cropped_sampled_digit_images = []\n",
    "for sampled_digit_img in sampled_digit_images:\n",
    "    cropped_sampled_digit_images.append(crop_digit(sampled_digit_img, plot=False))"
   ],
   "metadata": {
    "collapsed": false,
    "pycharm": {
     "name": "#%%\n"
    }
   }
  },
  {
   "cell_type": "code",
   "source": [
    "# TODO: should we also take into account rotation of digits?\n",
    "###  The paper doesn't seem to apply it"
   ],
   "metadata": {
    "collapsed": false,
    "pycharm": {
     "name": "#%%\n"
    }
   },
   "execution_count": 275,
   "outputs": []
  },
  {
   "cell_type": "code",
   "execution_count": 276,
   "outputs": [
    {
     "data": {
      "text/plain": "<Figure size 640x480 with 1 Axes>",
      "image/png": "[encoded data removed]"
     },
     "metadata": {},
     "output_type": "display_data"
    }
   ],
   "source": [
    "for cropped_sampled_digit_img in cropped_sampled_digit_images:\n",
    "    overlay_small_img_on_large_img_at_random_position(\n",
    "        canvas, cropped_sampled_digit_img, is_large_img_grayscale=True)\n",
    "\n",
    "plt.imshow(canvas)\n",
    "plt.show()"
   ],
   "metadata": {
    "collapsed": false,
    "pycharm": {
     "name": "#%%\n"
    }
   }
  },
  {
   "cell_type": "code",
   "execution_count": 276,
   "outputs": [],
   "source": [],
   "metadata": {
    "collapsed": false,
    "pycharm": {
     "name": "#%%\n"
    }
   }
  }
 ],
 "metadata": {
  "kernelspec": {
   "display_name": "Python 3 (ipykernel)",
   "language": "python",
   "name": "python3"
  },
  "language_info": {
   "codemirror_mode": {
    "name": "ipython",
    "version": 3
   },
   "file_extension": ".py",
   "mimetype": "text/x-python",
   "name": "python",
   "nbconvert_exporter": "python",
   "pygments_lexer": "ipython3",
   "version": "3.8.13"
  }
 },
 "nbformat": 4,
 "nbformat_minor": 1
}